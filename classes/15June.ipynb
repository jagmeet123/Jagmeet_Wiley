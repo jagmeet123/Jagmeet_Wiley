{
 "cells": [
  {
   "cell_type": "code",
   "execution_count": 2,
   "metadata": {},
   "outputs": [
    {
     "data": {
      "text/plain": [
       "50"
      ]
     },
     "execution_count": 2,
     "metadata": {},
     "output_type": "execute_result"
    }
   ],
   "source": [
    "# 1.) lambda: Function can take any number of arguments..... but can have p\n",
    "x = lambda x:x*10\n",
    "x(5)"
   ]
  },
  {
   "cell_type": "code",
   "execution_count": 4,
   "metadata": {},
   "outputs": [
    {
     "name": "stdout",
     "output_type": "stream",
     "text": [
      "200\n"
     ]
    }
   ],
   "source": [
    "y = lambda i,j:i*j\n",
    "print(y(10,20))"
   ]
  },
  {
   "cell_type": "code",
   "execution_count": 5,
   "metadata": {},
   "outputs": [],
   "source": [
    "# 2.)map function : It is used to map through the iterable object.\n",
    "#Lambda functions\n",
    "\n",
    "#Pros:They are good for the simple logica operations.\n",
    "#They are easy to understand\n",
    "#They make the code also more readable\n",
    "#They are also good if you have to run the function only once\n",
    "\n",
    "\n",
    "#Cons:\n",
    "#They can only perfrom one expresion at a time\n",
    "#The operatiosn that you are tryong to do span over more than one line..\n",
    "\n",
    "def square(x):\n",
    "    return x**2"
   ]
  },
  {
   "cell_type": "code",
   "execution_count": 8,
   "metadata": {},
   "outputs": [
    {
     "data": {
      "text/plain": [
       "[1, 4, 9, 16, 25]"
      ]
     },
     "execution_count": 8,
     "metadata": {},
     "output_type": "execute_result"
    }
   ],
   "source": [
    "list1 = [1,2,3,4,5]\n",
    "list(map(square,list1))"
   ]
  },
  {
   "cell_type": "code",
   "execution_count": 10,
   "metadata": {},
   "outputs": [
    {
     "name": "stdout",
     "output_type": "stream",
     "text": [
      "[1, 4, 9, 16, 25]\n"
     ]
    }
   ],
   "source": [
    "list2 = [11,22,33,44,55]\n",
    "b = list(map(square,list1))\n",
    "print(b)"
   ]
  },
  {
   "cell_type": "code",
   "execution_count": 23,
   "metadata": {},
   "outputs": [
    {
     "name": "stdout",
     "output_type": "stream",
     "text": [
      "kfdj\n",
      "kdfjfd\n",
      "kdfj\n"
     ]
    },
    {
     "data": {
      "text/plain": [
       "['even', 'even', 'even']"
      ]
     },
     "execution_count": 23,
     "metadata": {},
     "output_type": "execute_result"
    }
   ],
   "source": [
    "\n",
    "def check_str(str1):\n",
    "    if(len(str1)%2==0):\n",
    "        return \"even\"\n",
    "    else:\n",
    "        return str1[0]\n",
    "    \n",
    "list1 = [input() for i in range(3)]\n",
    "list(map(check_str,list1))"
   ]
  },
  {
   "cell_type": "code",
   "execution_count": 25,
   "metadata": {},
   "outputs": [],
   "source": [
    "def check_evenodd(x):\n",
    "    return x%2==0;"
   ]
  },
  {
   "cell_type": "code",
   "execution_count": 46,
   "metadata": {},
   "outputs": [
    {
     "name": "stdout",
     "output_type": "stream",
     "text": [
      "True\n",
      "False\n"
     ]
    },
    {
     "data": {
      "text/plain": [
       "[False, True, False]"
      ]
     },
     "execution_count": 46,
     "metadata": {},
     "output_type": "execute_result"
    }
   ],
   "source": [
    "print(check_evenodd(10))\n",
    "print(check_evenodd(11))\n",
    "list(map(check_evenodd,[11,12,13]))"
   ]
  },
  {
   "cell_type": "code",
   "execution_count": 48,
   "metadata": {},
   "outputs": [
    {
     "data": {
      "text/plain": [
       "[2, 4]"
      ]
     },
     "execution_count": 48,
     "metadata": {},
     "output_type": "execute_result"
    }
   ],
   "source": [
    "# 3.) Filter function: Just like map function, which returns those items of iterations which are true\n",
    "def check_evenodd(x):\n",
    "     return x%2==0;\n",
    "list(filter(check_evenodd,[1,2,3,4,5]))"
   ]
  },
  {
   "cell_type": "code",
   "execution_count": 53,
   "metadata": {},
   "outputs": [],
   "source": [
    "def check_evenodd(x):\n",
    "    if(x%2==0):\n",
    "        return 0;\n",
    "    return 1;"
   ]
  },
  {
   "cell_type": "code",
   "execution_count": 54,
   "metadata": {},
   "outputs": [
    {
     "data": {
      "text/plain": [
       "[1, 3, 5]"
      ]
     },
     "execution_count": 54,
     "metadata": {},
     "output_type": "execute_result"
    }
   ],
   "source": [
    "list(filter(check_evenodd,[1,2,3,4,5]))"
   ]
  },
  {
   "cell_type": "code",
   "execution_count": 55,
   "metadata": {},
   "outputs": [
    {
     "data": {
      "text/plain": [
       "4"
      ]
     },
     "execution_count": 55,
     "metadata": {},
     "output_type": "execute_result"
    }
   ],
   "source": [
    "(lambda y:y**2)(2)"
   ]
  },
  {
   "cell_type": "code",
   "execution_count": 58,
   "metadata": {},
   "outputs": [
    {
     "data": {
      "text/plain": [
       "[2, 4, 6]"
      ]
     },
     "execution_count": 58,
     "metadata": {},
     "output_type": "execute_result"
    }
   ],
   "source": [
    "list(filter(lambda x: x%2==0,[1,2,3,4,5,6]))"
   ]
  },
  {
   "cell_type": "code",
   "execution_count": 60,
   "metadata": {},
   "outputs": [
    {
     "data": {
      "text/plain": [
       "[19, 20]"
      ]
     },
     "execution_count": 60,
     "metadata": {},
     "output_type": "execute_result"
    }
   ],
   "source": [
    "#create a lambda expression to filter the people eligible for voting\n",
    "list(filter(lambda x:x>18,[19,20,1,4,5]))"
   ]
  },
  {
   "cell_type": "code",
   "execution_count": 76,
   "metadata": {},
   "outputs": [],
   "source": [
    "# Args: wehen any function parametrs start with *, that function allows any number number of argumnets and\n",
    "# then the functtion takes as a  \n",
    "def sum(*args):\n",
    "    sums=0\n",
    "    for i in args:\n",
    "        sums+=i\n",
    "    return sums\n",
    "\n",
    "def function_many(*args):\n",
    "    return sum(*args)*2"
   ]
  },
  {
   "cell_type": "code",
   "execution_count": 77,
   "metadata": {},
   "outputs": [
    {
     "data": {
      "text/plain": [
       "12"
      ]
     },
     "execution_count": 77,
     "metadata": {},
     "output_type": "execute_result"
    }
   ],
   "source": [
    "function_many(1,2,3)"
   ]
  },
  {
   "cell_type": "code",
   "execution_count": 81,
   "metadata": {},
   "outputs": [],
   "source": [
    "# Kwargs: The python allows us to enter the any number of keywords arguments in the function.\n",
    "# Instead of python creating a tuple, python will create dictionary over there.\n",
    "def func_2(**kwargs):\n",
    "    print(kwargs)\n",
    "    if 'movie' in kwargs:\n",
    "        print(f\"My favourite movie is {kwargs['movie']}\");\n",
    "    else:\n",
    "        print(f\"My favourite movie is not there\")"
   ]
  },
  {
   "cell_type": "code",
   "execution_count": 86,
   "metadata": {},
   "outputs": [
    {
     "name": "stdout",
     "output_type": "stream",
     "text": [
      "{'movie': 'Interns', 'cricketer': 'Virat', 'Country': 'Austrialia'}\n",
      "My favourite movie is Interns\n"
     ]
    }
   ],
   "source": [
    "func_2(movie='Interns',cricketer=\"Virat\",Country=\"Austrialia\")"
   ]
  },
  {
   "cell_type": "code",
   "execution_count": 87,
   "metadata": {},
   "outputs": [
    {
     "name": "stdout",
     "output_type": "stream",
     "text": [
      "{'cricketer': 'Virat'}\n",
      "My favourite movie is not there\n"
     ]
    }
   ],
   "source": [
    "func_2(cricketer=\"Virat\");"
   ]
  },
  {
   "cell_type": "code",
   "execution_count": 106,
   "metadata": {},
   "outputs": [],
   "source": [
    "def user_func(*args,**kwargs):\n",
    "    if 'fruits' and 'juice' in kwargs:\n",
    "        print(f\" I enjoy {' and '.join(args)} and my faviorite fruits is {kwargs['fruits']} and {kwargs['juice']}\");\n",
    "    else:\n",
    "        print(f\"I enjoy {' and '.join(args)}\")"
   ]
  },
  {
   "cell_type": "code",
   "execution_count": 108,
   "metadata": {},
   "outputs": [
    {
     "name": "stdout",
     "output_type": "stream",
     "text": [
      "I enjoy A and B\n"
     ]
    }
   ],
   "source": [
    "user_func(\"A\",\"B\",fruits = 'orange');"
   ]
  },
  {
   "cell_type": "code",
   "execution_count": 1,
   "metadata": {},
   "outputs": [],
   "source": [
    "# create a function \n",
    "def user_input(*args):\n",
    "    return 0"
   ]
  },
  {
   "cell_type": "code",
   "execution_count": 2,
   "metadata": {},
   "outputs": [],
   "source": [
    "import os\n",
    "clear = lambda : os.system('clear')"
   ]
  },
  {
   "cell_type": "code",
   "execution_count": 3,
   "metadata": {},
   "outputs": [
    {
     "name": "stdout",
     "output_type": "stream",
     "text": [
      "hg\n",
      "Please put correct value and try again\n",
      "65]\n",
      "Contains both Digits and alpbhabets\n",
      "45\n"
     ]
    }
   ],
   "source": [
    "user_input='\\u0000';\n",
    "while(True):\n",
    "    user_input = input()\n",
    "    if(user_input.isdigit()):\n",
    "        break;\n",
    "    elif(user_input.isalpha()):\n",
    "        clear()\n",
    "        print(\"Please put correct value and try again\")\n",
    "    else:\n",
    "        print(\"Contains both Digits and alpbhabets\")"
   ]
  },
  {
   "cell_type": "code",
   "execution_count": 1,
   "metadata": {},
   "outputs": [],
   "source": [
    "from IPython.display import clear_output\n",
    "def data_val():\n",
    "    user= \"Anything\"\n",
    "    \n",
    "    while user.isdigit()== False:\n",
    "        user=input(\"please enter a number\")\n",
    "        \n",
    "        if user.isdigit()== False:\n",
    "            clear_output()\n",
    "            print(\"Sorry Your input is wrong\")\n",
    "    \n",
    "    \n",
    "    return int(user)"
   ]
  },
  {
   "cell_type": "code",
   "execution_count": 2,
   "metadata": {},
   "outputs": [
    {
     "name": "stdout",
     "output_type": "stream",
     "text": [
      "Sorry Your input is wrong\n",
      "please enter a number1\n"
     ]
    },
    {
     "data": {
      "text/plain": [
       "1"
      ]
     },
     "execution_count": 2,
     "metadata": {},
     "output_type": "execute_result"
    }
   ],
   "source": [
    "data_val()"
   ]
  },
  {
   "cell_type": "code",
   "execution_count": 5,
   "metadata": {},
   "outputs": [],
   "source": [
    "x = 25\n",
    "def func1(x):\n",
    "    print(\"x is\",x);\n",
    "    print(\"The value of x is changed to: \",x);"
   ]
  },
  {
   "cell_type": "code",
   "execution_count": null,
   "metadata": {},
   "outputs": [],
   "source": [
    "func1(x);"
   ]
  },
  {
   "cell_type": "code",
   "execution_count": 6,
   "metadata": {},
   "outputs": [],
   "source": [
    "x=30\n",
    "\n",
    "def func2():\n",
    "    global x;\n",
    "    print(\"The function is now using the global x\");\n",
    "    print(\"The value of global is x:\",x);\n",
    "    x = 20;\n",
    "    print(\"The value of global x is changed to\",x)"
   ]
  },
  {
   "cell_type": "code",
   "execution_count": 7,
   "metadata": {},
   "outputs": [
    {
     "name": "stdout",
     "output_type": "stream",
     "text": [
      "The function is now using the global x\n",
      "The value of global is x: 30\n",
      "The value of global x is changed to 20\n"
     ]
    }
   ],
   "source": [
    "func2()"
   ]
  },
  {
   "cell_type": "code",
   "execution_count": 9,
   "metadata": {},
   "outputs": [
    {
     "data": {
      "text/plain": [
       "20"
      ]
     },
     "execution_count": 9,
     "metadata": {},
     "output_type": "execute_result"
    }
   ],
   "source": [
    "x"
   ]
  },
  {
   "cell_type": "code",
   "execution_count": null,
   "metadata": {},
   "outputs": [],
   "source": []
  }
 ],
 "metadata": {
  "kernelspec": {
   "display_name": "Python 3",
   "language": "python",
   "name": "python3"
  }
 },
 "nbformat": 4,
 "nbformat_minor": 2
}
