{
 "cells": [
  {
   "cell_type": "code",
   "execution_count": null,
   "metadata": {},
   "outputs": [],
   "source": [
    "#while loop\n",
    "x = 1;\n",
    "while(x<=100):\n",
    "    if(x%5==0):\n",
    "        print(x)\n",
    "    x = x+1;\n",
    "else:\n",
    "    print(\"Excecution done\")"
   ]
  },
  {
   "cell_type": "code",
   "execution_count": null,
   "metadata": {},
   "outputs": [],
   "source": [
    "#while loop\n",
    "x = 1;\n",
    "while(x<=100):\n",
    "    if(x%5==0):\n",
    "        print(X);\n",
    "else:\n",
    "    print(\"Excecution done\")"
   ]
  },
  {
   "cell_type": "code",
   "execution_count": null,
   "metadata": {},
   "outputs": [],
   "source": [
    "x = 1;\n",
    "while(x<=100):\n",
    "    if(x%5==0):\n",
    "        print(X);\n",
    "else:\n",
    "    print(\"Excecution done\")"
   ]
  },
  {
   "cell_type": "code",
   "execution_count": 3,
   "metadata": {},
   "outputs": [
    {
     "name": "stdout",
     "output_type": "stream",
     "text": [
      "720\n"
     ]
    }
   ],
   "source": [
    "# break , continue, pass\n",
    "a = 6;\n",
    "res=1;\n",
    "while(a>=1):\n",
    "    res = res*a;\n",
    "    a=a-1;\n",
    "print(res)"
   ]
  },
  {
   "cell_type": "code",
   "execution_count": 4,
   "metadata": {},
   "outputs": [
    {
     "name": "stdout",
     "output_type": "stream",
     "text": [
      "The 0 character is W\n",
      "The 1 character is i\n",
      "The 2 character is l\n",
      "The 3 character is e\n",
      "The 4 character is y\n",
      "The 5 character is  \n",
      "The 6 character is M\n",
      "The 7 character is t\n",
      "The 8 character is h\n",
      "The 9 character is r\n",
      "The 10 character is e\n",
      "The 11 character is e\n"
     ]
    }
   ],
   "source": [
    "# format\n",
    "str1 = \"Wiley Mthree\"\n",
    "i = 0;\n",
    "for s in str1:\n",
    "    print(\"The {} character is {}\".format(i,s));\n",
    "    i=i+1"
   ]
  },
  {
   "cell_type": "code",
   "execution_count": 7,
   "metadata": {},
   "outputs": [
    {
     "name": "stdout",
     "output_type": "stream",
     "text": [
      "The 0 character is w\n",
      "The 1 character is i\n",
      "The 2 character is l\n",
      "The 3 character is e\n",
      "The 4 character is y\n",
      "The 5 character is  \n",
      "The 6 character is M\n",
      "The 7 character is t\n",
      "The 8 character is h\n",
      "The 9 character is r\n",
      "The 10 character is e\n",
      "The 11 character is e\n"
     ]
    }
   ],
   "source": [
    "#enumerate\n",
    "v = \"wiley Mthree\"\n",
    "for (index,alpha) in enumerate(v):\n",
    "    print(\"The {} character is {}\".format(index,alpha));"
   ]
  },
  {
   "cell_type": "code",
   "execution_count": 8,
   "metadata": {},
   "outputs": [
    {
     "data": {
      "text/plain": [
       "[(0, 'W'),\n",
       " (1, 'i'),\n",
       " (2, 'l'),\n",
       " (3, 'e'),\n",
       " (4, 'y'),\n",
       " (5, ' '),\n",
       " (6, 'M'),\n",
       " (7, 't'),\n",
       " (8, 'h'),\n",
       " (9, 'r'),\n",
       " (10, 'e'),\n",
       " (11, 'e')]"
      ]
     },
     "execution_count": 8,
     "metadata": {},
     "output_type": "execute_result"
    }
   ],
   "source": [
    "list(enumerate(\"Wiley Mthree\"))"
   ]
  },
  {
   "cell_type": "code",
   "execution_count": 9,
   "metadata": {},
   "outputs": [
    {
     "data": {
      "text/plain": [
       "[(1, 4), (2, 'dfd'), (3, 'dfjf'), (4, '12')]"
      ]
     },
     "execution_count": 9,
     "metadata": {},
     "output_type": "execute_result"
    }
   ],
   "source": [
    "#Zip: Ti\n",
    "list1 = [1,2,3,4]\n",
    "list2 = [4,\"dfd\",\"dfjf\",\"12\",132]\n",
    "\n",
    "list(zip(list1,list2))"
   ]
  },
  {
   "cell_type": "code",
   "execution_count": 10,
   "metadata": {},
   "outputs": [
    {
     "data": {
      "text/plain": [
       "True"
      ]
     },
     "execution_count": 10,
     "metadata": {},
     "output_type": "execute_result"
    }
   ],
   "source": [
    "#in operator\n",
    "10 in [1,2,3,10]"
   ]
  },
  {
   "cell_type": "code",
   "execution_count": 12,
   "metadata": {},
   "outputs": [
    {
     "data": {
      "text/plain": [
       "False"
      ]
     },
     "execution_count": 12,
     "metadata": {},
     "output_type": "execute_result"
    }
   ],
   "source": [
    "10 not in [1,2,3,4,5,10]"
   ]
  },
  {
   "cell_type": "code",
   "execution_count": 19,
   "metadata": {},
   "outputs": [
    {
     "data": {
      "text/plain": [
       "[3, 4, 1, 2, 5]"
      ]
     },
     "execution_count": 19,
     "metadata": {},
     "output_type": "execute_result"
    }
   ],
   "source": [
    "# Random Library\n",
    "\n",
    "# 1.)shuffle\n",
    "from random import shuffle\n",
    "list1= [1,2,3,4,5]\n",
    "shuffle(list1)\n",
    "list1"
   ]
  },
  {
   "cell_type": "code",
   "execution_count": 26,
   "metadata": {},
   "outputs": [
    {
     "data": {
      "text/plain": [
       "19"
      ]
     },
     "execution_count": 26,
     "metadata": {},
     "output_type": "execute_result"
    }
   ],
   "source": [
    "# 2.) randInt\n",
    "from random import randint\n",
    "randint(10,20)"
   ]
  },
  {
   "cell_type": "code",
   "execution_count": 29,
   "metadata": {},
   "outputs": [
    {
     "data": {
      "text/plain": [
       "['W', 'i', 'l', 'e', 'y', ' ', 'M', 't', 'h', 'r', 'e', 'e']"
      ]
     },
     "execution_count": 29,
     "metadata": {},
     "output_type": "execute_result"
    }
   ],
   "source": [
    "# List comprehension: Used to create a list\n",
    "\n",
    "l = [a for a in \"Wiley Mthree\"]\n",
    "l"
   ]
  },
  {
   "cell_type": "code",
   "execution_count": 31,
   "metadata": {},
   "outputs": [
    {
     "data": {
      "text/plain": [
       "[1, 4, 9]"
      ]
     },
     "execution_count": 31,
     "metadata": {},
     "output_type": "execute_result"
    }
   ],
   "source": [
    "l2 = [x**2 for x in [1,2,3]]\n",
    "l2"
   ]
  },
  {
   "cell_type": "code",
   "execution_count": 34,
   "metadata": {},
   "outputs": [
    {
     "data": {
      "text/plain": [
       "[2, 4, 6, 8]"
      ]
     },
     "execution_count": 34,
     "metadata": {},
     "output_type": "execute_result"
    }
   ],
   "source": [
    "# create a list which has even numbers in range from 1,10\n",
    "l3 = [x for x in range(1,10) if x%2==0]\n",
    "l3"
   ]
  },
  {
   "cell_type": "code",
   "execution_count": 40,
   "metadata": {},
   "outputs": [
    {
     "data": {
      "text/plain": [
       "[2, 4, 6, 8]"
      ]
     },
     "execution_count": 40,
     "metadata": {},
     "output_type": "execute_result"
    }
   ],
   "source": [
    "l2 = [i for i in range(1,10)]\n",
    "\n",
    "l4 = [i for i in l2 if i%2==0]\n",
    "l4"
   ]
  },
  {
   "cell_type": "code",
   "execution_count": 43,
   "metadata": {},
   "outputs": [
    {
     "name": "stdout",
     "output_type": "stream",
     "text": [
      "Fisrt Function\n"
     ]
    }
   ],
   "source": [
    "# Functions\n",
    "def first_func():\n",
    "    print(\"Fisrt Function\")\n",
    "\n",
    "first_func()"
   ]
  },
  {
   "cell_type": "code",
   "execution_count": 47,
   "metadata": {},
   "outputs": [
    {
     "name": "stdout",
     "output_type": "stream",
     "text": [
      "Hello Jaz\n"
     ]
    }
   ],
   "source": [
    "def welcome(uname):\n",
    "    print(\"Hello {}\".format(uname));\n",
    "    \n",
    "welcome(\"Jaz\")"
   ]
  },
  {
   "cell_type": "code",
   "execution_count": 50,
   "metadata": {},
   "outputs": [
    {
     "name": "stdout",
     "output_type": "stream",
     "text": [
      "Hello Jazzy\n"
     ]
    }
   ],
   "source": [
    "def welcomes(uname):\n",
    "    print(f'Hello {uname}')\n",
    "welcomes(\"Jazzy\")"
   ]
  },
  {
   "cell_type": "code",
   "execution_count": 53,
   "metadata": {},
   "outputs": [
    {
     "name": "stdout",
     "output_type": "stream",
     "text": [
      "25\n"
     ]
    }
   ],
   "source": [
    "def num_addition(num1,num2):\n",
    "    return num1+num2\n",
    "n = num_addition(12,13)\n",
    "print(n)"
   ]
  },
  {
   "cell_type": "code",
   "execution_count": 55,
   "metadata": {},
   "outputs": [
    {
     "data": {
      "text/plain": [
       "'Hello World'"
      ]
     },
     "execution_count": 55,
     "metadata": {},
     "output_type": "execute_result"
    }
   ],
   "source": [
    "num_addition(\"Hello\",\" World\")"
   ]
  },
  {
   "cell_type": "code",
   "execution_count": 3,
   "metadata": {},
   "outputs": [
    {
     "name": "stdout",
     "output_type": "stream",
     "text": [
      "4\n",
      "0\n"
     ]
    }
   ],
   "source": [
    "def even_odd(num):\n",
    "    return num%2;\n",
    "print(even_odd(int(input())))"
   ]
  },
  {
   "cell_type": "code",
   "execution_count": 18,
   "metadata": {},
   "outputs": [
    {
     "data": {
      "text/plain": [
       "True"
      ]
     },
     "execution_count": 18,
     "metadata": {},
     "output_type": "execute_result"
    }
   ],
   "source": [
    "def even_odd_list(list1):\n",
    "    for i in list1:\n",
    "        if(i%2==0):\n",
    "            return True\n",
    "    return False\n",
    "even_odd_list([1,2,3])"
   ]
  },
  {
   "cell_type": "code",
   "execution_count": 10,
   "metadata": {},
   "outputs": [],
   "source": [
    "# [(A,1),(A,2),(A,3)]\n",
    "def user_input(n):\n",
    "    list1 = []\n",
    "    for z in range(n):\n",
    "        i,j = input(),int(input())\n",
    "        list1.append((i,j))\n",
    "    return list1"
   ]
  },
  {
   "cell_type": "code",
   "execution_count": 11,
   "metadata": {},
   "outputs": [
    {
     "name": "stdout",
     "output_type": "stream",
     "text": [
      "Enter the number of employee2\n",
      "A\n",
      "1\n",
      "B2\n",
      "2\n",
      "Employee B2 works for 2 hours, Which is maximum in comparision to others\n"
     ]
    }
   ],
   "source": [
    "# [(A,1),(A,2),(A,3)]\n",
    "def user_input(n):\n",
    "    list1 = []\n",
    "    for z in range(n):\n",
    "        i,j = input(),int(input())\n",
    "        list1.append((i,j))\n",
    "    return list1\n",
    "\n",
    "def Highest_hours(list1):\n",
    "    max_hr = -1;\n",
    "    max_hr_Employee = '\\u0000'\n",
    "    for name,hr in list1:\n",
    "        if(hr>max_hr):\n",
    "            max_hr = hr\n",
    "            max_hr_Employee = name\n",
    "    return max_hr,max_hr_Employee\n",
    "\n",
    "user_list = user_input(int(input(\"Enter the number of employee\")));\n",
    "max_hours,max_hour_employee = Highest_hours(user_list)\n",
    "print(f'Employee {max_hour_employee} works for {max_hours} hours, Which is maximum in comparision to others')"
   ]
  },
  {
   "cell_type": "code",
   "execution_count": 44,
   "metadata": {},
   "outputs": [],
   "source": [
    "# create a function [\"\",\"A\",\"\"],1\n",
    "from random import shuffle\n",
    "def After_Shuffle(list1,index):\n",
    "    if(index<0 or index>=len(list1)):\n",
    "        return \"Out of bound\"\n",
    "    shuffle(list1)\n",
    "    print(list1)\n",
    "    if(list1[index]==\"A\"):\n",
    "        return \"Yes\"\n",
    "    else:\n",
    "        return \"No\""
   ]
  },
  {
   "cell_type": "code",
   "execution_count": 45,
   "metadata": {},
   "outputs": [
    {
     "name": "stdout",
     "output_type": "stream",
     "text": [
      "2\n",
      "['A', '', '']\n"
     ]
    },
    {
     "data": {
      "text/plain": [
       "'No'"
      ]
     },
     "execution_count": 45,
     "metadata": {},
     "output_type": "execute_result"
    }
   ],
   "source": [
    "After_Shuffle([\"\",\"A\",\"\"],int(input()))"
   ]
  },
  {
   "cell_type": "code",
   "execution_count": null,
   "metadata": {},
   "outputs": [],
   "source": []
  }
 ],
 "metadata": {
  "kernelspec": {
   "display_name": "Python 3",
   "language": "python",
   "name": "python3"
  },
  "language_info": {
   "codemirror_mode": {
    "name": "ipython",
    "version": 3
   },
   "file_extension": ".py",
   "mimetype": "text/x-python",
   "name": "python",
   "nbconvert_exporter": "python",
   "pygments_lexer": "ipython3",
   "version": "3.7.3"
  }
 },
 "nbformat": 4,
 "nbformat_minor": 2
}
