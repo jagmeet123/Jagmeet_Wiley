{
 "cells": [
  {
   "cell_type": "code",
   "execution_count": 2,
   "metadata": {},
   "outputs": [
    {
     "data": {
      "text/plain": [
       "type"
      ]
     },
     "execution_count": 2,
     "metadata": {},
     "output_type": "execute_result"
    }
   ],
   "source": [
    "type # This tell about the type of class\n"
   ]
  },
  {
   "cell_type": "code",
   "execution_count": 3,
   "metadata": {},
   "outputs": [],
   "source": [
    "class FirstClass():\n",
    "    pass"
   ]
  },
  {
   "cell_type": "code",
   "execution_count": 5,
   "metadata": {},
   "outputs": [
    {
     "data": {
      "text/plain": [
       "__main__.FirstClass"
      ]
     },
     "execution_count": 5,
     "metadata": {},
     "output_type": "execute_result"
    }
   ],
   "source": [
    "var1 = FirstClass()\n",
    "type(var1)"
   ]
  },
  {
   "cell_type": "code",
   "execution_count": 28,
   "metadata": {},
   "outputs": [
    {
     "name": "stdout",
     "output_type": "stream",
     "text": [
      "The Dogs bark\n"
     ]
    }
   ],
   "source": [
    "class Dog():\n",
    "    \n",
    "    # Attribute are the property of a class. Like car class would have tyres\n",
    "    legs = 4\n",
    "\n",
    "    def __init__(self,breed,isMale,color):\n",
    "        # They take some attribute\n",
    "        # We assign these arguments by self.argumentName\n",
    "        self.breed = breed;\n",
    "        self.isMale = isMale\n",
    "        self.color = color\n",
    "        \n",
    "    def voice(self):\n",
    "        print(\"The Dogs bark\")\n",
    "        \n",
    "var2 = Dog(breed=\"abc\",isMale = True,color=\"white\")\n",
    "var2.breed,var2.isMale,var2.color\n",
    "var2.legs\n",
    "var2.voice()"
   ]
  },
  {
   "cell_type": "code",
   "execution_count": 45,
   "metadata": {},
   "outputs": [],
   "source": [
    "class Circle():\n",
    "    pi = 3.14\n",
    "    \n",
    "    def __init__(self,radius=1):\n",
    "        self.radius = radius;\n",
    "    \n",
    "    def circumfercence(self):\n",
    "        return 2*self.radius*self.pi\n",
    "    \n",
    "    def areaCircle(self):\n",
    "        return self.pi*self.radius**2"
   ]
  },
  {
   "cell_type": "code",
   "execution_count": 47,
   "metadata": {},
   "outputs": [
    {
     "data": {
      "text/plain": [
       "(78.5, 31.400000000000002)"
      ]
     },
     "execution_count": 47,
     "metadata": {},
     "output_type": "execute_result"
    }
   ],
   "source": [
    "var5 = Circle(5)\n",
    "var5.areaCircle(),var5.circumfercence()"
   ]
  },
  {
   "cell_type": "code",
   "execution_count": 71,
   "metadata": {},
   "outputs": [],
   "source": [
    "class Animal():\n",
    "    def __init__(self):\n",
    "        print(\"Animal class created\")\n",
    "    \n",
    "    def species(self):\n",
    "        print(\"I am a mammal\")\n",
    "    \n",
    "    def eat(self):\n",
    "        print(\"I am eating\")"
   ]
  },
  {
   "cell_type": "code",
   "execution_count": 72,
   "metadata": {},
   "outputs": [
    {
     "name": "stdout",
     "output_type": "stream",
     "text": [
      "Animal class created\n",
      "I am eating\n",
      "I am a mammal\n"
     ]
    }
   ],
   "source": [
    "animal1 = Animal()\n",
    "animal1.eat()\n",
    "animal1.species()"
   ]
  },
  {
   "cell_type": "code",
   "execution_count": 101,
   "metadata": {},
   "outputs": [],
   "source": [
    "# We inherit the method and attribute of the existing class\n",
    "class Dog(Animal):\n",
    "    \n",
    "    def __init__(self):\n",
    "        Animal.__init__(self)\n",
    "        print(\"Dog created\")\n",
    "        \n",
    "    def eat(self):\n",
    "        print(\"I am dog and I bark\")"
   ]
  },
  {
   "cell_type": "code",
   "execution_count": 102,
   "metadata": {},
   "outputs": [
    {
     "name": "stdout",
     "output_type": "stream",
     "text": [
      "Animal class created\n",
      "Dog created\n",
      "I am dog and I bark\n",
      "I am a mammal\n"
     ]
    }
   ],
   "source": [
    "dog1 = Dog()\n",
    "dog1.eat()\n",
    "dog1.species()"
   ]
  },
  {
   "cell_type": "code",
   "execution_count": 104,
   "metadata": {},
   "outputs": [],
   "source": [
    "#Polymorism "
   ]
  },
  {
   "cell_type": "code",
   "execution_count": 111,
   "metadata": {},
   "outputs": [],
   "source": [
    "class Dog():\n",
    "    def __init__(self,name):\n",
    "        self.name = name\n",
    "        \n",
    "    def voice(self):\n",
    "        return self.name + \" Woof\""
   ]
  },
  {
   "cell_type": "code",
   "execution_count": 112,
   "metadata": {},
   "outputs": [],
   "source": [
    "class cat(c1):\n",
    "    def __init__(self,name):\n",
    "        self.name = name\n",
    "    \n",
    "    def voice(self):\n",
    "        return self.name + \"meow\""
   ]
  },
  {
   "cell_type": "code",
   "execution_count": 113,
   "metadata": {},
   "outputs": [
    {
     "data": {
      "text/plain": [
       "'leo Woof'"
      ]
     },
     "execution_count": 113,
     "metadata": {},
     "output_type": "execute_result"
    }
   ],
   "source": [
    "Leo = Dog(\"leo\")\n",
    "flex = cat(\"flex\")\n",
    "Leo.voice()"
   ]
  },
  {
   "cell_type": "code",
   "execution_count": 115,
   "metadata": {},
   "outputs": [
    {
     "name": "stdout",
     "output_type": "stream",
     "text": [
      "leo Woof\n",
      "flexmeow\n"
     ]
    }
   ],
   "source": [
    "for animal in [Leo,flex]:\n",
    "    print(animal.voice())"
   ]
  },
  {
   "cell_type": "code",
   "execution_count": 152,
   "metadata": {},
   "outputs": [],
   "source": [
    "class Book():\n",
    "    \n",
    "    def __init__(self,title,author,pages):\n",
    "        self.title = title;\n",
    "        self.author = author;\n",
    "        self.pages = pages;\n",
    "    \n",
    "    def __str__(self):\n",
    "        return f\" The name of Book is {self.title} by {self.author}\"\n",
    "    \n",
    "    def __len__(self):\n",
    "        return self.pages;\n",
    "    \n",
    "    def __del__(self):\n",
    "        print(f\"The object {self} has been deleted\")"
   ]
  },
  {
   "cell_type": "code",
   "execution_count": 153,
   "metadata": {},
   "outputs": [],
   "source": [
    "b = Book(\"Harry Potter\",\"JK rowling\",300)"
   ]
  },
  {
   "cell_type": "code",
   "execution_count": 154,
   "metadata": {},
   "outputs": [
    {
     "name": "stdout",
     "output_type": "stream",
     "text": [
      "The object  The name of Book is Harry Potter by JK rowling has been deleted\n"
     ]
    }
   ],
   "source": [
    "# To delete an object \n",
    "del b"
   ]
  },
  {
   "cell_type": "code",
   "execution_count": null,
   "metadata": {},
   "outputs": [],
   "source": []
  },
  {
   "cell_type": "code",
   "execution_count": null,
   "metadata": {},
   "outputs": [],
   "source": []
  }
 ],
 "metadata": {
  "kernelspec": {
   "display_name": "Python 3",
   "language": "python",
   "name": "python3"
  },
  "language_info": {
   "codemirror_mode": {
    "name": "ipython",
    "version": 3
   },
   "file_extension": ".py",
   "mimetype": "text/x-python",
   "name": "python",
   "nbconvert_exporter": "python",
   "pygments_lexer": "ipython3",
   "version": "3.7.3"
  }
 },
 "nbformat": 4,
 "nbformat_minor": 2
}
