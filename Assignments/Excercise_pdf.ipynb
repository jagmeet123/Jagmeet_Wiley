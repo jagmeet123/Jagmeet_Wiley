{
 "cells": [
  {
   "cell_type": "code",
   "execution_count": 17,
   "metadata": {},
   "outputs": [
    {
     "name": "stdout",
     "output_type": "stream",
     "text": [
      "amrit\n",
      "5\n"
     ]
    }
   ],
   "source": [
    "# Write a Python program that prints the length of a string\n",
    "str1 = input()\n",
    "print(len(str1))"
   ]
  },
  {
   "cell_type": "code",
   "execution_count": 18,
   "metadata": {},
   "outputs": [
    {
     "name": "stdout",
     "output_type": "stream",
     "text": [
      "jagmeet\n",
      "jget\n"
     ]
    }
   ],
   "source": [
    "# . Write a Python program that prints the string s without the characters located at even indices.\n",
    "# If the string is empty or only has one character, print it intact.\n",
    "str1 = input()\n",
    "s = \"\"\n",
    "if(len(str1)==0 or len(str1)==1):\n",
    "    s = str1;\n",
    "else:\n",
    "    for i in range(0,len(str1)):\n",
    "        if((i+1)%2!=0):\n",
    "            s+=str1[i]\n",
    "            \n",
    "print(s)"
   ]
  },
  {
   "cell_type": "code",
   "execution_count": 23,
   "metadata": {},
   "outputs": [
    {
     "data": {
      "text/plain": [
       "[3, 4, 5]"
      ]
     },
     "execution_count": 23,
     "metadata": {},
     "output_type": "execute_result"
    }
   ],
   "source": [
    "# Write a Python program that prints (as a list) the elements of listA that are not in listB as a list.\n",
    "# If the lists have the same elements, print an empty list.\n",
    "\n",
    "list1 = [1,2,3,4,5];\n",
    "list2 = [1,2,6,7];\n",
    "\n",
    "ans1 = set(list1)\n",
    "ans2 = set(list2)\n",
    "list(ans1.difference(ans2))"
   ]
  },
  {
   "cell_type": "code",
   "execution_count": 24,
   "metadata": {},
   "outputs": [
    {
     "data": {
      "text/plain": [
       "5.196152422706632"
      ]
     },
     "execution_count": 24,
     "metadata": {},
     "output_type": "execute_result"
    }
   ],
   "source": [
    "list1 = [1,2,3];\n",
    "list2 = [4,5,6];\n",
    "\n",
    "((list2[0]-list1[0])**2 + (list2[1]-list1[1])**2 + (list2[2]-list1[2])**2)**0.5"
   ]
  },
  {
   "cell_type": "code",
   "execution_count": 34,
   "metadata": {},
   "outputs": [
    {
     "data": {
      "text/plain": [
       "{'a': 3, 'b': 2, 'c': 1}"
      ]
     },
     "execution_count": 34,
     "metadata": {},
     "output_type": "execute_result"
    }
   ],
   "source": [
    "list1 = [\"a\",\"A\",\"b\",\"c\",\"a\",\"B\"];\n",
    "obj = {}\n",
    "for i in list1:\n",
    "    if(i.lower() in obj):\n",
    "        obj[i.lower()] =obj[i.lower()]+1;\n",
    "    else:\n",
    "        obj[i.lower()] =1;\n",
    "obj"
   ]
  },
  {
   "cell_type": "code",
   "execution_count": 35,
   "metadata": {},
   "outputs": [],
   "source": [
    "# list1 = [1,2,3]\n",
    "# for i in list1:\n",
    "    "
   ]
  },
  {
   "cell_type": "code",
   "execution_count": 42,
   "metadata": {},
   "outputs": [
    {
     "data": {
      "text/plain": [
       "{'January': 45, 'Feburary': 56, 'March': 67}"
      ]
     },
     "execution_count": 42,
     "metadata": {},
     "output_type": "execute_result"
    }
   ],
   "source": [
    "obj = {\"January\":45,\"Feburary\":56,\"March\":67};\n",
    "def return_new_dict(obj,key,value):\n",
    "    if(key not in obj):\n",
    "        obj[key] = value\n",
    "    return obj;\n",
    "\n",
    "return_new_dict(obj,\"January\",15);\n",
    "obj"
   ]
  },
  {
   "cell_type": "code",
   "execution_count": 49,
   "metadata": {},
   "outputs": [
    {
     "name": "stdout",
     "output_type": "stream",
     "text": [
      "False\n",
      "True\n",
      "Empty\n"
     ]
    }
   ],
   "source": [
    "def function_check(obj):\n",
    "    if(len(obj)==0):\n",
    "        return \"Empty\"\n",
    "    prev = -1;\n",
    "    for k,v in obj.items():\n",
    "        if(prev==-1 or prev==v):\n",
    "            prev = v;\n",
    "        else:\n",
    "            return False;\n",
    "    return True\n",
    "\n",
    "print(function_check({\"a\":4,\"b\":6,\"c\":10}));\n",
    "print(function_check({\"a\":4,\"b\":4,\"c\":4}));\n",
    "print(function_check({}))"
   ]
  },
  {
   "cell_type": "code",
   "execution_count": 54,
   "metadata": {},
   "outputs": [
    {
     "name": "stdout",
     "output_type": "stream",
     "text": [
      "Summer\n"
     ]
    }
   ],
   "source": [
    "def season_check(obj,num):\n",
    "    if(num in obj):\n",
    "        print(obj[num])\n",
    "    else:\n",
    "        print(\"Please enter a valid number\")\n",
    "\n",
    "season_check({1:\"Spring\",2:\"Summer\",3:\"Fall\",4:\"Winter\"},2)"
   ]
  },
  {
   "cell_type": "code",
   "execution_count": 71,
   "metadata": {},
   "outputs": [
    {
     "name": "stdout",
     "output_type": "stream",
     "text": [
      "{'a': 1, 'b': 2, 'c': 3, 'd': 4}\n"
     ]
    }
   ],
   "source": [
    "list1 = [[\"a\",1],[\"b\",2],[\"c\",3],[\"d\",4]]\n",
    "# list1 = [[]]\n",
    "def fuc(list1):\n",
    "    if(len(list1)==0 or len(list1[0])==0):\n",
    "        return \"Empty\"\n",
    "    \n",
    "    obj = {}\n",
    "    for ele in list1:\n",
    "        obj[ele[0]]= ele[1]\n",
    "        \n",
    "    return obj\n",
    "\n",
    "print(fuc(list1))"
   ]
  },
  {
   "cell_type": "code",
   "execution_count": 78,
   "metadata": {},
   "outputs": [
    {
     "data": {
      "text/plain": [
       "'Complex Roots'"
      ]
     },
     "execution_count": 78,
     "metadata": {},
     "output_type": "execute_result"
    }
   ],
   "source": [
    "# Quadratic\n",
    "\n",
    "def findRoot(a,b,c):\n",
    "    root = (b**2 - (4*a*c)); \n",
    "    if(root<0):\n",
    "        return \"Complex Roots\"\n",
    "    elif(root==0):\n",
    "        return -b/(2*a)\n",
    "    else:\n",
    "        r1 = (-b + (root**0.5))/(2*a)\n",
    "        r2 = (-b - (root**0.5))/(2*a)\n",
    "        return r1,r2\n",
    "findRoot(2,5,-3)\n",
    "findRoot(2,1,2)"
   ]
  },
  {
   "cell_type": "code",
   "execution_count": 62,
   "metadata": {},
   "outputs": [
    {
     "data": {
      "text/plain": [
       "{'h': 1, 'e': 1, 'l': 3, 'o': 2, 'w': 1, 'r': 1, 'd': 1}"
      ]
     },
     "execution_count": 62,
     "metadata": {},
     "output_type": "execute_result"
    }
   ],
   "source": [
    "import re;\n",
    "str1 = \"hello, WorLd!\"\n",
    "res = re.sub(\"[^\\w]\",\"\",str1);\n",
    "\n",
    "obj = {};\n",
    "for ele in res:\n",
    "    if(ele.lower() in obj):\n",
    "        obj[ele.lower()] = obj[ele.lower()]+1;\n",
    "    else:\n",
    "        obj[ele.lower()]=1;\n",
    "        \n",
    "obj"
   ]
  },
  {
   "cell_type": "code",
   "execution_count": null,
   "metadata": {},
   "outputs": [],
   "source": []
  }
 ],
 "metadata": {
  "kernelspec": {
   "display_name": "Python 3",
   "language": "python",
   "name": "python3"
  },
  "language_info": {
   "codemirror_mode": {
    "name": "ipython",
    "version": 3
   },
   "file_extension": ".py",
   "mimetype": "text/x-python",
   "name": "python",
   "nbconvert_exporter": "python",
   "pygments_lexer": "ipython3",
   "version": "3.7.3"
  }
 },
 "nbformat": 4,
 "nbformat_minor": 2
}
