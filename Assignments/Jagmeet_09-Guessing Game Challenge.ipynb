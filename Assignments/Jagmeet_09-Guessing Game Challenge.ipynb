{
 "cells": [
  {
   "cell_type": "markdown",
   "metadata": {},
   "source": []
  },
  {
   "cell_type": "markdown",
   "metadata": {},
   "source": [
    "# Guessing Game Challenge\n",
    "\n",
    "Let's use `while` loops to create a guessing game.\n",
    "\n",
    "The Challenge:\n",
    "\n",
    "Write a program that picks a random integer from 1 to 100, and has players guess the number. The rules are:\n",
    "\n",
    "1. If a player's guess is less than 1 or greater than 100, say \"OUT OF BOUNDS\"\n",
    "2. On a player's first turn, if their guess is\n",
    " * within 10 of the number, return \"WARM!\"\n",
    " * further than 10 away from the number, return \"COLD!\"\n",
    "3. On all subsequent turns, if a guess is \n",
    " * closer to the number than the previous guess return \"WARMER!\"\n",
    " * farther from the number than the previous guess, return \"COLDER!\"\n",
    "4. When the player's guess equals the number, tell them they've guessed correctly *and* how many guesses it took!\n",
    "\n",
    "You can try this from scratch, or follow the steps outlined below. A separate Solution notebook has been provided. Good luck!\n"
   ]
  },
  {
   "cell_type": "markdown",
   "metadata": {},
   "source": [
    "#### First, pick a random integer from 1 to 100 using the random module and assign it to a variable\n",
    "\n",
    "Note: `random.randint(a,b)` returns a random integer in range `[a, b]`, including both end points."
   ]
  },
  {
   "cell_type": "code",
   "execution_count": 7,
   "metadata": {},
   "outputs": [
    {
     "name": "stdout",
     "output_type": "stream",
     "text": [
      "72\n",
      "21\n",
      "Cold\n",
      "34\n",
      "warmer\n",
      "67\n",
      "warmer\n",
      "12\n",
      "colder\n",
      "72\n",
      "Guess number was 72\n",
      "The Number of Guesses the user took is 5\n"
     ]
    }
   ],
   "source": [
    "#Code\n",
    "from random import randint\n",
    "num = randint(1,100)\n",
    "print(num)\n",
    "chance = 1\n",
    "isSame = True\n",
    "prev_guess = num;\n",
    "user_guees_store = [];\n",
    "while(isSame):\n",
    "    user_guess = int(input())\n",
    "    user_guees_store.append(user_guess);\n",
    "\n",
    "    if(user_guess<1 or user_guess>100):\n",
    "        print(\"Out of Bound\")\n",
    "        continue;\n",
    "        \n",
    "    if(user_guess==num): # If user guess is equal to original number\n",
    "        print(\"Guess number was {}\".format(num)) \n",
    "        break;\n",
    "        \n",
    "    if(chance==1):      # First chance\n",
    "        if(user_guess<=10):\n",
    "            print(\"Warm\")\n",
    "        else:\n",
    "            print(\"Cold\")\n",
    "    else:\n",
    "        if(abs(num - user_guess) <= abs(num-prev_guess)): # closer\n",
    "            print(\"warmer\")\n",
    "        else:                                             # Far away\n",
    "            print(\"colder\")\n",
    "        \n",
    "    chance = chance+1;\n",
    "    prev_guess = user_guess\n",
    "    \n",
    "print(\"The Number of Guesses the user took is {}\".format(len(user_guees_store)))"
   ]
  },
  {
   "cell_type": "code",
   "execution_count": null,
   "metadata": {},
   "outputs": [],
   "source": [
    "#### Next, print an introduction to the game and explain the rules"
   ]
  },
  {
   "cell_type": "code",
   "execution_count": 7,
   "metadata": {},
   "outputs": [
    {
     "name": "stdout",
     "output_type": "stream",
     "text": [
      "This is a guess game.On a player's first turn, if their guess is within 10 of the number it will return warm further than 10 away from the number it will return cold! else in the further subsequent gueeses if closer than prev than closer and away from previusn guess then will print warmer\n"
     ]
    }
   ],
   "source": [
    "print(\"This is a guess game.On a player's first turn, if their guess is within 10 of the number it will return warm further than 10 away from the number it will return cold! else in the further subsequent gueeses if closer than prev than closer and away from previusn guess then will print warmer\")"
   ]
  },
  {
   "cell_type": "markdown",
   "metadata": {},
   "source": [
    "#### Create a list to store guesses\n",
    "\n",
    "Hint: zero is a good placeholder value. It's useful because it evaluates to \"False\""
   ]
  },
  {
   "cell_type": "code",
   "execution_count": null,
   "metadata": {
    "collapsed": true
   },
   "outputs": [],
   "source": []
  },
  {
   "cell_type": "markdown",
   "metadata": {},
   "source": [
    "#### Write a `while` loop that asks for a valid guess. Test it a few times to make sure it works."
   ]
  },
  {
   "cell_type": "code",
   "execution_count": null,
   "metadata": {
    "collapsed": true
   },
   "outputs": [],
   "source": [
    "while True:\n",
    "    \n",
    "    pass"
   ]
  },
  {
   "cell_type": "markdown",
   "metadata": {},
   "source": [
    "#### Write a `while` loop that compares the player's guess to our number. If the player guesses correctly, break from the loop. Otherwise, tell the player if they're warmer or colder, and continue asking for guesses.\n",
    "\n",
    "Some hints:\n",
    "* it may help to sketch out all possible combinations on paper first!\n",
    "* you can use the `abs()` function to find the positive difference between two numbers\n",
    "* if you append all new guesses to the list, then the previous guess is given as `guesses[-2]`"
   ]
  },
  {
   "cell_type": "code",
   "execution_count": null,
   "metadata": {
    "collapsed": true
   },
   "outputs": [],
   "source": [
    "from random import randint\n",
    "num = randint(1,100)\n",
    "print(num)\n",
    "chance = 1\n",
    "isSame = True\n",
    "prev_guess = num;\n",
    "user_guees_store = [];\n",
    "while(isSame):\n",
    "    user_guess = int(input())\n",
    "    user_guess_store.append(user_guess);\n",
    "    if(user_guess==num):\n",
    "        print(\"Guess number was {}\".format(num))\n",
    "        break;\n",
    "        \n",
    "    if(chance==1):\n",
    "        if(user_guess<=10):\n",
    "            print(\"Warm\")\n",
    "        else:\n",
    "            print(\"Cold\")\n",
    "    else:\n",
    "        if(num - user_guess <= num-prev_guess): # closer\n",
    "            print(\"warmer\")\n",
    "        else:           # Far away\n",
    "            print(\"colder\")\n",
    "        \n",
    "    chance = chance+1;\n",
    "    prev_guess = user_guess"
   ]
  },
  {
   "cell_type": "markdown",
   "metadata": {},
   "source": [
    "That's it! You've just programmed your first game!\n",
    "\n",
    "In the next section we'll learn how to turn some of these repetitive actions into *functions* that can be called whenever we need them."
   ]
  },
  {
   "cell_type": "markdown",
   "metadata": {},
   "source": []
  }
 ],
 "metadata": {
  "kernelspec": {
   "display_name": "Python 3",
   "language": "python",
   "name": "python3"
  },
  "language_info": {
   "codemirror_mode": {
    "name": "ipython",
    "version": 3
   },
   "file_extension": ".py",
   "mimetype": "text/x-python",
   "name": "python",
   "nbconvert_exporter": "python",
   "pygments_lexer": "ipython3",
   "version": "3.7.3"
  }
 },
 "nbformat": 4,
 "nbformat_minor": 2
}
