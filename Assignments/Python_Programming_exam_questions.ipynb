{
 "cells": [
  {
   "cell_type": "code",
   "execution_count": 3,
   "metadata": {},
   "outputs": [
    {
     "name": "stdout",
     "output_type": "stream",
     "text": [
      "Negative Tweets:  ['Food is the worst here', 'This pizza tastes awful']\n",
      "Positive Tweets:  ['He is a good boy', 'He is an awesome player', 'She is the best', 'These burger are really nice']\n"
     ]
    }
   ],
   "source": [
    "comments = ['He is a good boy','Food is the worst here','He is an awesome player','She is the best','This pizza tastes awful','These burger are really nice']\n",
    "postive_tweets = [];\n",
    "negative_tweets = [];\n",
    "\n",
    "positive = ['good','awesome', 'best', 'nice']\n",
    "negative =  ['worst','awful']\n",
    "\n",
    "for tweet in comments:\n",
    "    tw = tweet.split(\" \");\n",
    "    for word in tw:\n",
    "        if(word in positive):\n",
    "            postive_tweets.append(tweet);\n",
    "            break\n",
    "        elif(word in negative):\n",
    "            negative_tweets.append(tweet);\n",
    "            break\n",
    "        else:\n",
    "            continue\n",
    "            \n",
    "print(\"Negative Tweets: \",negative_tweets)\n",
    "print(\"Positive Tweets: \",postive_tweets)"
   ]
  },
  {
   "cell_type": "code",
   "execution_count": 13,
   "metadata": {},
   "outputs": [
    {
     "name": "stdout",
     "output_type": "stream",
     "text": [
      "5\n",
      "{'Square': 25, 'Cube': 125, 'squareRoot': 2.236}\n"
     ]
    }
   ],
   "source": [
    "#2\n",
    "sqaure = lambda x : x**2\n",
    "Cube = lambda x : x**3\n",
    "squareRoot = lambda x : x**0.5\n",
    "\n",
    "def find(n):\n",
    "    obj = {\n",
    "        \"Square\":sqaure(n),\n",
    "        \"Cube\":Cube(n),\n",
    "        \"squareRoot\":round(squareRoot(n),3)\n",
    "    }\n",
    "    print(obj);\n",
    "    \n",
    "find(int(input()))"
   ]
  },
  {
   "cell_type": "code",
   "execution_count": 14,
   "metadata": {},
   "outputs": [
    {
     "data": {
      "text/plain": [
       "['Lemon', 'Grapes', 'Kiwi', 'Orange', 'Limes']"
      ]
     },
     "execution_count": 14,
     "metadata": {},
     "output_type": "execute_result"
    }
   ],
   "source": [
    "#3\n",
    "fruits = (('Lemon','sour'),('DragonFruit', 'Sweet'),('Grapes','soUr'),('Kiwi','Sour'),('Apples','sweet'),('Orange','sour'),('Blueberries','sweet'),('Limes','Sour'))  \n",
    "Sour=[]\n",
    "for ele in fruits:\n",
    "    if(ele[1].lower() == \"sour\"):\n",
    "        Sour.append(ele[0]);\n",
    "Sour"
   ]
  },
  {
   "cell_type": "code",
   "execution_count": 15,
   "metadata": {},
   "outputs": [
    {
     "name": "stdout",
     "output_type": "stream",
     "text": [
      "hOw\n",
      "ARe\n"
     ]
    }
   ],
   "source": [
    "#4\n",
    "ls = ['hello', 'Dear', 'hOw', 'ARe', 'You']\n",
    "for ele in ls:\n",
    "    if(ele[1].isupper()):\n",
    "        print(ele)"
   ]
  },
  {
   "cell_type": "code",
   "execution_count": 24,
   "metadata": {},
   "outputs": [
    {
     "data": {
      "text/plain": [
       "{'John': 7.45, 'Shelly': 10.76, 'Marry': 5.79}"
      ]
     },
     "execution_count": 24,
     "metadata": {},
     "output_type": "execute_result"
    }
   ],
   "source": [
    "#5\n",
    "import math\n",
    "WeightOnEarth = {'John':45, 'Shelly':65, 'Marry':35}    \n",
    "weightOnMoon = {};\n",
    "for name,weight in WeightOnEarth.items():\n",
    "    weightM = (weight *1.622)/9.8\n",
    "    weightOnMoon[name] = round(weightM,2)\n",
    "weightOnMoon"
   ]
  },
  {
   "cell_type": "code",
   "execution_count": 39,
   "metadata": {},
   "outputs": [
    {
     "name": "stdout",
     "output_type": "stream",
     "text": [
      "Maria\n",
      "Hello\n",
      "World\n",
      "Merry\n",
      "You\n"
     ]
    }
   ],
   "source": [
    "#6\n",
    "namesList  =  ['santa  Maria',  'Hello     World','Merry  christmas',  'tHank You']\n",
    "for str1 in namesList:\n",
    "    list1 = str1.split(\" \");\n",
    "    for word in list1:\n",
    "        if(word!=\"\" and word[0].isupper()):\n",
    "            print(word)"
   ]
  },
  {
   "cell_type": "code",
   "execution_count": 79,
   "metadata": {},
   "outputs": [
    {
     "data": {
      "text/plain": [
       "{3, 8}"
      ]
     },
     "execution_count": 79,
     "metadata": {},
     "output_type": "execute_result"
    }
   ],
   "source": [
    "# 7\n",
    "ls = [[1, 2, 3, 4, 8], [2, 3, 8, 5, 6], [8, 4, 5, 3, 7], [6, 9, 8, 3], [9, 12, 3, 7, 6, 8, 4, 6, 21, 1, 6]]\n",
    "li=ls[0]\n",
    "for item in ls[1:]:\n",
    "    set_li =set(li)\n",
    "    li = set(set_li.intersection(item));\n",
    "li "
   ]
  },
  {
   "cell_type": "code",
   "execution_count": 51,
   "metadata": {},
   "outputs": [
    {
     "data": {
      "text/plain": [
       "7.0"
      ]
     },
     "execution_count": 51,
     "metadata": {},
     "output_type": "execute_result"
    }
   ],
   "source": [
    "#8\n",
    "ls= [9,8,7,6,5]\n",
    "import itertools as it\n",
    "\n",
    "ans = it.accumulate(ls,lambda a,b: a+b)\n",
    "(list(ans)[-1]) / len(ls)"
   ]
  },
  {
   "cell_type": "code",
   "execution_count": 53,
   "metadata": {},
   "outputs": [
    {
     "data": {
      "text/plain": [
       "['TRUE', 'FALSE', 'TRUE', 'TRUE', 'FALSE', 'FALSE']"
      ]
     },
     "execution_count": 53,
     "metadata": {},
     "output_type": "execute_result"
    }
   ],
   "source": [
    "lsbool = ['True','FALse','tRUe','tRue','False','faLse']\n",
    "list(map(lambda x:x.upper() ,lsbool))"
   ]
  },
  {
   "cell_type": "code",
   "execution_count": 57,
   "metadata": {},
   "outputs": [
    {
     "data": {
      "text/plain": [
       "['1997', '2011', '1993', '2020']"
      ]
     },
     "execution_count": 57,
     "metadata": {},
     "output_type": "execute_result"
    }
   ],
   "source": [
    "datesList= ['17-12-1997','22-04-2011','01-05-1993','19-06-2020']\n",
    "list1 = []\n",
    "for d in datesList:\n",
    "    year = d.split(\"-\")[-1];\n",
    "    list1.append(year)\n",
    "    \n",
    "list1"
   ]
  },
  {
   "cell_type": "code",
   "execution_count": null,
   "metadata": {},
   "outputs": [],
   "source": []
  }
 ],
 "metadata": {
  "kernelspec": {
   "display_name": "Python 3",
   "language": "python",
   "name": "python3"
  },
  "language_info": {
   "codemirror_mode": {
    "name": "ipython",
    "version": 3
   },
   "file_extension": ".py",
   "mimetype": "text/x-python",
   "name": "python",
   "nbconvert_exporter": "python",
   "pygments_lexer": "ipython3",
   "version": "3.7.3"
  }
 },
 "nbformat": 4,
 "nbformat_minor": 2
}
